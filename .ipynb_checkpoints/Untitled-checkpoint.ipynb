{
 "cells": [
  {
   "cell_type": "markdown",
   "id": "8a424b10",
   "metadata": {},
   "source": [
    "document.querySelector(\"#__next > div:nth-child(2) > div > div.flex.flex-col.gap-6.pt-2.px-5.md\\\\:px-10 > div > div > div.infinite-scroll-component__outerdiv > div > div > div > div > div:nth-child(2)\")"
   ]
  },
  {
   "cell_type": "code",
   "execution_count": 4,
   "id": "e9939772",
   "metadata": {},
   "outputs": [
    {
     "name": "stdout",
     "output_type": "stream",
     "text": [
      "Requirement already satisfied: pyarrow in /Users/vchintalapati/enter/lib/python3.10/site-packages (12.0.1)\n",
      "Requirement already satisfied: numpy>=1.16.6 in /Users/vchintalapati/enter/lib/python3.10/site-packages (from pyarrow) (1.23.5)\n",
      "Note: you may need to restart the kernel to use updated packages.\n"
     ]
    }
   ],
   "source": [
    "pip install pyarrow"
   ]
  },
  {
   "cell_type": "code",
   "execution_count": 9,
   "id": "83ef9595",
   "metadata": {},
   "outputs": [
    {
     "data": {
      "text/plain": [
       "Prompt    steampunk market interior, colorful, 3 d scene...\n",
       "Name: 2, dtype: object"
      ]
     },
     "execution_count": 9,
     "metadata": {},
     "output_type": "execute_result"
    }
   ],
   "source": [
    "import pandas as pd\n",
    "\n",
    "# Reading the parquet file into a DataFrame\n",
    "df = pd.read_parquet('/Users/vchintalapati/Downloads/train.parquet', engine='pyarrow')  # Use 'fastparquet' for the fastparquet engine\n",
    "\n",
    "# Display the DataFrame\n",
    "df.iloc[2]\n"
   ]
  },
  {
   "cell_type": "code",
   "execution_count": 11,
   "id": "1b0d727d",
   "metadata": {},
   "outputs": [],
   "source": [
    "import pandas as pd\n",
    "\n",
    "# Step 2: Read the .parquet file into a DataFrame\n",
    "df = pd.read_parquet('/Users/vchintalapati/Downloads/train.parquet', engine='pyarrow')  # You can also use 'fastparquet'\n",
    "\n",
    "# Step 3: Write the DataFrame to a .csv file\n",
    "df.to_csv('your_file.csv', index=False)"
   ]
  },
  {
   "cell_type": "code",
   "execution_count": 12,
   "id": "a3d1e76f",
   "metadata": {},
   "outputs": [
    {
     "data": {
      "text/html": [
       "<div>\n",
       "<style scoped>\n",
       "    .dataframe tbody tr th:only-of-type {\n",
       "        vertical-align: middle;\n",
       "    }\n",
       "\n",
       "    .dataframe tbody tr th {\n",
       "        vertical-align: top;\n",
       "    }\n",
       "\n",
       "    .dataframe thead th {\n",
       "        text-align: right;\n",
       "    }\n",
       "</style>\n",
       "<table border=\"1\" class=\"dataframe\">\n",
       "  <thead>\n",
       "    <tr style=\"text-align: right;\">\n",
       "      <th></th>\n",
       "      <th>Prompt</th>\n",
       "    </tr>\n",
       "  </thead>\n",
       "  <tbody>\n",
       "    <tr>\n",
       "      <th>0</th>\n",
       "      <td>realistic car 3 d render sci - fi car and sci ...</td>\n",
       "    </tr>\n",
       "    <tr>\n",
       "      <th>1</th>\n",
       "      <td>a comic potrait of a female necromamcer with b...</td>\n",
       "    </tr>\n",
       "    <tr>\n",
       "      <th>2</th>\n",
       "      <td>steampunk market interior, colorful, 3 d scene...</td>\n",
       "    </tr>\n",
       "    <tr>\n",
       "      <th>3</th>\n",
       "      <td>“A portrait of a cyborg in a golden suit, D&amp;D ...</td>\n",
       "    </tr>\n",
       "    <tr>\n",
       "      <th>4</th>\n",
       "      <td>A full portrait of a beautiful post apocalypti...</td>\n",
       "    </tr>\n",
       "    <tr>\n",
       "      <th>...</th>\n",
       "      <td>...</td>\n",
       "    </tr>\n",
       "    <tr>\n",
       "      <th>73713</th>\n",
       "      <td>ismail inceoglu epic oil on canvas painting of...</td>\n",
       "    </tr>\n",
       "    <tr>\n",
       "      <th>73714</th>\n",
       "      <td>eating crayons and being reborn in the loving ...</td>\n",
       "    </tr>\n",
       "    <tr>\n",
       "      <th>73715</th>\n",
       "      <td>ilya kuvshinov with long hair, sky blue hair, ...</td>\n",
       "    </tr>\n",
       "    <tr>\n",
       "      <th>73716</th>\n",
       "      <td>cyberpunk woman with green hair wearing futuri...</td>\n",
       "    </tr>\n",
       "    <tr>\n",
       "      <th>73717</th>\n",
       "      <td>zulu cyborg, male, green eyes, red diodes, sci...</td>\n",
       "    </tr>\n",
       "  </tbody>\n",
       "</table>\n",
       "<p>73718 rows × 1 columns</p>\n",
       "</div>"
      ],
      "text/plain": [
       "                                                  Prompt\n",
       "0      realistic car 3 d render sci - fi car and sci ...\n",
       "1      a comic potrait of a female necromamcer with b...\n",
       "2      steampunk market interior, colorful, 3 d scene...\n",
       "3      “A portrait of a cyborg in a golden suit, D&D ...\n",
       "4      A full portrait of a beautiful post apocalypti...\n",
       "...                                                  ...\n",
       "73713  ismail inceoglu epic oil on canvas painting of...\n",
       "73714  eating crayons and being reborn in the loving ...\n",
       "73715  ilya kuvshinov with long hair, sky blue hair, ...\n",
       "73716  cyberpunk woman with green hair wearing futuri...\n",
       "73717  zulu cyborg, male, green eyes, red diodes, sci...\n",
       "\n",
       "[73718 rows x 1 columns]"
      ]
     },
     "execution_count": 12,
     "metadata": {},
     "output_type": "execute_result"
    }
   ],
   "source": [
    "pd.read_csv('your_file.csv')"
   ]
  },
  {
   "cell_type": "code",
   "execution_count": 13,
   "id": "411103a7",
   "metadata": {},
   "outputs": [
    {
     "data": {
      "text/plain": [
       "Prompt    a comic potrait of a female necromamcer with b...\n",
       "Name: 1, dtype: object"
      ]
     },
     "execution_count": 13,
     "metadata": {},
     "output_type": "execute_result"
    }
   ],
   "source": [
    "df.iloc[1]"
   ]
  },
  {
   "cell_type": "markdown",
   "id": "87981617",
   "metadata": {},
   "source": [
    "  \n",
    "  \n",
    "  \n",
    "  \n",
    "  "
   ]
  },
  {
   "cell_type": "markdown",
   "id": "00f0d215",
   "metadata": {},
   "source": [
    " "
   ]
  },
  {
   "cell_type": "markdown",
   "id": "540bbb1d",
   "metadata": {},
   "source": [
    "### Fine-tuning a model using Replicate"
   ]
  },
  {
   "cell_type": "code",
   "execution_count": 30,
   "id": "ee0f4418",
   "metadata": {},
   "outputs": [
    {
     "ename": "SyntaxError",
     "evalue": "invalid syntax (2354213191.py, line 2)",
     "output_type": "error",
     "traceback": [
      "\u001b[0;36m  Cell \u001b[0;32mIn[30], line 2\u001b[0;36m\u001b[0m\n\u001b[0;31m    export REPLICATE_API_TOKEN='36daadefb53b6e9f8e7d9fbc137e00063fb7f5b5'\u001b[0m\n\u001b[0m           ^\u001b[0m\n\u001b[0;31mSyntaxError\u001b[0m\u001b[0;31m:\u001b[0m invalid syntax\n"
     ]
    }
   ],
   "source": [
    "#export\n",
    "export REPLICATE_API_TOKEN='36daadefb53b6e9f8e7d9fbc137e00063fb7f5b5'"
   ]
  },
  {
   "cell_type": "code",
   "execution_count": 19,
   "id": "1db8c30d",
   "metadata": {
    "collapsed": true
   },
   "outputs": [
    {
     "name": "stdout",
     "output_type": "stream",
     "text": [
      "Collecting replicate\n",
      "  Downloading replicate-0.11.0-py3-none-any.whl (22 kB)\n",
      "Requirement already satisfied: pydantic>1 in /Users/vchintalapati/enter/lib/python3.10/site-packages (from replicate) (1.10.6)\n",
      "Requirement already satisfied: requests>2 in /Users/vchintalapati/enter/lib/python3.10/site-packages (from replicate) (2.30.0)\n",
      "Requirement already satisfied: packaging in /Users/vchintalapati/enter/lib/python3.10/site-packages (from replicate) (22.0)\n",
      "Requirement already satisfied: typing-extensions>=4.2.0 in /Users/vchintalapati/enter/lib/python3.10/site-packages (from pydantic>1->replicate) (4.4.0)\n",
      "Requirement already satisfied: idna<4,>=2.5 in /Users/vchintalapati/enter/lib/python3.10/site-packages (from requests>2->replicate) (3.4)\n",
      "Requirement already satisfied: certifi>=2017.4.17 in /Users/vchintalapati/enter/lib/python3.10/site-packages (from requests>2->replicate) (2023.5.7)\n",
      "Requirement already satisfied: charset-normalizer<4,>=2 in /Users/vchintalapati/enter/lib/python3.10/site-packages (from requests>2->replicate) (2.1.1)\n",
      "Requirement already satisfied: urllib3<3,>=1.21.1 in /Users/vchintalapati/enter/lib/python3.10/site-packages (from requests>2->replicate) (1.26.14)\n",
      "Installing collected packages: replicate\n",
      "Successfully installed replicate-0.11.0\n",
      "Note: you may need to restart the kernel to use updated packages.\n"
     ]
    }
   ],
   "source": [
    "pip install replicate"
   ]
  },
  {
   "cell_type": "code",
   "execution_count": 31,
   "id": "f7f12de8",
   "metadata": {},
   "outputs": [],
   "source": [
    "import os\n",
    "\n",
    "os.environ['REPLICATE_API_TOKEN'] = '36daadefb53b6e9f8e7d9fbc137e00063fb7f5b5'\n"
   ]
  },
  {
   "cell_type": "code",
   "execution_count": 32,
   "id": "28cd9fe5",
   "metadata": {},
   "outputs": [
    {
     "name": "stdout",
     "output_type": "stream",
     "text": [
      "id='6sw5d3dbybniwcqaa65c4pk7fa' version=None destination=None status='starting' input={'num_train_epochs': 2, 'train_data': 'https://gist.githubusercontent.com/cbh123/ad79e304d47aca1fe174eda70a2449c8/raw/6b4c408971b4bb059c0140f5a003655d6dc02c6d/lyrics_xml.jsonl'} output=None logs='' error=None created_at='2023-08-29T06:36:20.186567504Z' started_at=None completed_at=None urls={'cancel': 'https://api.replicate.com/v1/predictions/6sw5d3dbybniwcqaa65c4pk7fa/cancel', 'get': 'https://api.replicate.com/v1/predictions/6sw5d3dbybniwcqaa65c4pk7fa'}\n"
     ]
    }
   ],
   "source": [
    "import replicate\n",
    "\n",
    "training = replicate.trainings.create(\n",
    "  version=\"replicate/llama-2-13b:dc4f980befd2103b0fb17d5854634c0f56d6f80a1a02be1b6f8859ac8ba02896\",\n",
    "  input={\n",
    "    \"train_data\": \"https://gist.githubusercontent.com/cbh123/ad79e304d47aca1fe174eda70a2449c8/raw/6b4c408971b4bb059c0140f5a003655d6dc02c6d/lyrics_xml.jsonl\",\n",
    "    \"num_train_epochs\": 2\n",
    "  },\n",
    "  destination=\"akshayvkt/llama-testing\"\n",
    ")\n",
    "\n",
    "print(training)"
   ]
  },
  {
   "cell_type": "code",
   "execution_count": 34,
   "id": "f6634da8",
   "metadata": {},
   "outputs": [],
   "source": [
    "# If you've got a handle to the object returned by create()\n",
    "training.reload()\n",
    "\n",
    "# If you've got the training ID\n",
    "training = replicate.trainings.get(\"6sw5d3dbybniwcqaa65c4pk7fa\")\n",
    "\n",
    "if training.status == \"succeeded\":\n",
    "    print(training.output)\n",
    "    # {\"weights\": \"...\", \"version\": \"...\"}"
   ]
  },
  {
   "cell_type": "markdown",
   "id": "ea388818",
   "metadata": {},
   "source": [
    "## Anthropic prompting with Claude"
   ]
  },
  {
   "cell_type": "code",
   "execution_count": 3,
   "id": "df63a7e5",
   "metadata": {},
   "outputs": [],
   "source": [
    "import openai\n",
    "import anthropic\n",
    "from anthropic import Anthropic, HUMAN_PROMPT, AI_PROMPT\n",
    "import os\n",
    "\n",
    "anthropic = Anthropic(\n",
    "api_key = os.environ[\"ANTHROPIC_API_KEY\"]\n",
    ")"
   ]
  },
  {
   "cell_type": "code",
   "execution_count": null,
   "id": "5c4f5870",
   "metadata": {},
   "outputs": [],
   "source": []
  }
 ],
 "metadata": {
  "kernelspec": {
   "display_name": "Python 3 (ipykernel)",
   "language": "python",
   "name": "python3"
  },
  "language_info": {
   "codemirror_mode": {
    "name": "ipython",
    "version": 3
   },
   "file_extension": ".py",
   "mimetype": "text/x-python",
   "name": "python",
   "nbconvert_exporter": "python",
   "pygments_lexer": "ipython3",
   "version": "3.10.9"
  }
 },
 "nbformat": 4,
 "nbformat_minor": 5
}
