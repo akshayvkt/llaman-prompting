{
 "cells": [
  {
   "cell_type": "markdown",
   "id": "9f4eff3f",
   "metadata": {},
   "source": [
    "### Fine-tuning LLaMa2 using Replicate"
   ]
  },
  {
   "cell_type": "code",
   "execution_count": null,
   "id": "89d55e6d",
   "metadata": {},
   "outputs": [],
   "source": [
    "pip install replicate"
   ]
  },
  {
   "cell_type": "code",
   "execution_count": 2,
   "id": "09e83f26",
   "metadata": {},
   "outputs": [],
   "source": [
    "import os\n",
    "import replicate"
   ]
  },
  {
   "cell_type": "code",
   "execution_count": 1,
   "id": "c41cb80f",
   "metadata": {
    "scrolled": true
   },
   "outputs": [
    {
     "name": "stdout",
     "output_type": "stream",
     "text": [
      "36daadefb53b6e9f8e7d9fbc137e00063fb7f5b5\r\n"
     ]
    }
   ],
   "source": [
    "#export\n",
    "!echo $REPLICATE_API_TOKEN"
   ]
  },
  {
   "cell_type": "markdown",
   "id": "a2971dee",
   "metadata": {},
   "source": [
    "\n",
    "- Replace train_data with link to your training data json location\n",
    "- Train for 10 epochs using a 13b model\n",
    "- Destination is the model you created on Replicate"
   ]
  },
  {
   "cell_type": "code",
   "execution_count": 4,
   "id": "1ebbafaf",
   "metadata": {},
   "outputs": [
    {
     "name": "stdout",
     "output_type": "stream",
     "text": [
      "id='fingtx3blrejfmwf2hvprzhbyq' version=None destination=None status='starting' input={'num_train_epochs': 10, 'train_data': 'http://localhost:8888/edit/prompt_150pairs.jsonl'} output=None logs='' error=None created_at='2023-08-30T07:53:00.260689266Z' started_at=None completed_at=None urls={'cancel': 'https://api.replicate.com/v1/predictions/fingtx3blrejfmwf2hvprzhbyq/cancel', 'get': 'https://api.replicate.com/v1/predictions/fingtx3blrejfmwf2hvprzhbyq'}\n"
     ]
    }
   ],
   "source": [
    "training = replicate.trainings.create(\n",
    "  version=\"replicate/llama-2-13b:dc4f980befd2103b0fb17d5854634c0f56d6f80a1a02be1b6f8859ac8ba02896\",\n",
    "  input={\n",
    "    \"train_data\": \"http://localhost:8888/edit/prompt_150pairs.jsonl\",\n",
    "    \"num_train_epochs\": 10\n",
    "  },\n",
    "  destination=\"akshayvkt/llaman-150prompts\"\n",
    ")\n",
    "\n",
    "print(training)"
   ]
  },
  {
   "cell_type": "code",
   "execution_count": null,
   "id": "3babf813",
   "metadata": {},
   "outputs": [],
   "source": [
    "# If you've got a handle to the object returned by create()\n",
    "training.reload()\n",
    "\n",
    "# If you've got the training ID\n",
    "training = replicate.trainings.get(\"6sw5d3dbybniwcqaa65c4pk7fa\")\n",
    "\n",
    "if training.status == \"succeeded\":\n",
    "    print(training.output)\n",
    "    # {\"weights\": \"...\", \"version\": \"...\"}"
   ]
  }
 ],
 "metadata": {
  "kernelspec": {
   "display_name": "Python 3 (ipykernel)",
   "language": "python",
   "name": "python3"
  },
  "language_info": {
   "codemirror_mode": {
    "name": "ipython",
    "version": 3
   },
   "file_extension": ".py",
   "mimetype": "text/x-python",
   "name": "python",
   "nbconvert_exporter": "python",
   "pygments_lexer": "ipython3",
   "version": "3.10.9"
  }
 },
 "nbformat": 4,
 "nbformat_minor": 5
}
