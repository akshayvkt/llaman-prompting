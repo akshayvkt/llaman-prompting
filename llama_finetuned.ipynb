{
 "cells": [
  {
   "cell_type": "markdown",
   "id": "9f4eff3f",
   "metadata": {},
   "source": [
    "### Fine-tuning LLaMa2 using Replicate"
   ]
  },
  {
   "cell_type": "code",
   "execution_count": null,
   "id": "89d55e6d",
   "metadata": {},
   "outputs": [],
   "source": [
    "pip install replicate"
   ]
  },
  {
   "cell_type": "code",
   "execution_count": 2,
   "id": "09e83f26",
   "metadata": {},
   "outputs": [],
   "source": [
    "import os\n",
    "import replicate"
   ]
  },
  {
   "cell_type": "code",
   "execution_count": 3,
   "id": "c41cb80f",
   "metadata": {
    "scrolled": true
   },
   "outputs": [
    {
     "name": "stdout",
     "output_type": "stream",
     "text": [
      "36daadefb53b6e9f8e7d9fbc137e00063fb7f5b5\r\n"
     ]
    }
   ],
   "source": [
    "#export\n",
    "!echo $REPLICATE_API_TOKEN"
   ]
  },
  {
   "cell_type": "markdown",
   "id": "a2971dee",
   "metadata": {},
   "source": [
    "\n",
    "- Replace train_data with link to your training data json location\n",
    "- Train for 10 epochs using a 13b model\n",
    "- Destination is the model you created on Replicate"
   ]
  },
  {
   "cell_type": "code",
   "execution_count": 9,
   "id": "1ebbafaf",
   "metadata": {},
   "outputs": [
    {
     "name": "stdout",
     "output_type": "stream",
     "text": [
      "id='fw3d7ulb6p6p5ehmv2xdfbya4a' version=None destination=None status='starting' input={'num_train_epochs': 10, 'train_data': 'https://raw.githubusercontent.com/akshayvkt/llaman-prompting/main/prompt_150pairs-formatted.jsonl'} output=None logs='' error=None created_at='2023-08-30T08:47:51.129200986Z' started_at=None completed_at=None urls={'cancel': 'https://api.replicate.com/v1/predictions/fw3d7ulb6p6p5ehmv2xdfbya4a/cancel', 'get': 'https://api.replicate.com/v1/predictions/fw3d7ulb6p6p5ehmv2xdfbya4a'}\n"
     ]
    }
   ],
   "source": [
    "training = replicate.trainings.create(\n",
    "  version=\"replicate/llama-2-13b:dc4f980befd2103b0fb17d5854634c0f56d6f80a1a02be1b6f8859ac8ba02896\",\n",
    "  input={\n",
    "    \"train_data\": \"https://raw.githubusercontent.com/akshayvkt/llaman-prompting/main/prompt_150pairs-formatted.jsonl\",\n",
    "    \"num_train_epochs\": 15\n",
    "  },\n",
    "  destination=\"akshayvkt/llaman-150\"\n",
    ")\n",
    "\n",
    "print(training)"
   ]
  },
  {
   "cell_type": "code",
   "execution_count": 10,
   "id": "3babf813",
   "metadata": {},
   "outputs": [],
   "source": [
    "# If you've got a handle to the object returned by create()\n",
    "training.reload()\n",
    "\n",
    "# If you've got the training ID\n",
    "training = replicate.trainings.get(\"fw3d7ulb6p6p5ehmv2xdfbya4a\")\n",
    "\n",
    "if training.status == \"succeeded\":\n",
    "    print(training.output)\n",
    "    # {\"weights\": \"...\", \"version\": \"...\"}"
   ]
  },
  {
   "cell_type": "code",
   "execution_count": 10,
   "id": "d2c2b0eb",
   "metadata": {},
   "outputs": [],
   "source": [
    "keyyy = {\"prompt\": \"Anime girl with pink hair and frilly dress holding magic wand\",\"completion\": \"Portrait of a magical anime girl with long pink hair, big sparkling eyes, frilly pink dress, holding a star wand, delicate makeup, soft studio lighting, highly detailed digital painting\"}"
   ]
  },
  {
   "cell_type": "code",
   "execution_count": 11,
   "id": "0113a368",
   "metadata": {},
   "outputs": [
    {
     "data": {
      "text/plain": [
       "'Anime girl with pink hair and frilly dress holding magic wand'"
      ]
     },
     "execution_count": 11,
     "metadata": {},
     "output_type": "execute_result"
    }
   ],
   "source": [
    "keyyy['prompt']"
   ]
  },
  {
   "cell_type": "markdown",
   "id": "fb481d58",
   "metadata": {},
   "source": [
    " "
   ]
  },
  {
   "cell_type": "markdown",
   "id": "6913c5ca",
   "metadata": {},
   "source": [
    " "
   ]
  },
  {
   "cell_type": "markdown",
   "id": "9394f3ee",
   "metadata": {},
   "source": [
    "## Fine-tuning with 500 prompt pairs"
   ]
  },
  {
   "cell_type": "code",
   "execution_count": 13,
   "id": "fb1ea438",
   "metadata": {},
   "outputs": [
    {
     "name": "stdout",
     "output_type": "stream",
     "text": [
      "id='v6lxxltb5v2dzg6mi6wk3ga4ti' version=None destination=None status='starting' input={'num_train_epochs': 15, 'train_data': 'https://raw.githubusercontent.com/akshayvkt/llaman-prompting/main/prompt_pairs_500.jsonl'} output=None logs='' error=None created_at='2023-08-31T07:17:54.404347208Z' started_at=None completed_at=None urls={'cancel': 'https://api.replicate.com/v1/predictions/v6lxxltb5v2dzg6mi6wk3ga4ti/cancel', 'get': 'https://api.replicate.com/v1/predictions/v6lxxltb5v2dzg6mi6wk3ga4ti'}\n"
     ]
    }
   ],
   "source": [
    "training = replicate.trainings.create(\n",
    "  version=\"replicate/llama-2-13b:dc4f980befd2103b0fb17d5854634c0f56d6f80a1a02be1b6f8859ac8ba02896\",\n",
    "  input={\n",
    "    \"train_data\": \"https://raw.githubusercontent.com/akshayvkt/llaman-prompting/main/prompt_pairs_500.jsonl\",\n",
    "    \"num_train_epochs\": 15\n",
    "  },\n",
    "  destination=\"akshayvkt/llaman-500\"\n",
    ")\n",
    "\n",
    "print(training)\n"
   ]
  },
  {
   "cell_type": "code",
   "execution_count": null,
   "id": "cf0ac359",
   "metadata": {},
   "outputs": [],
   "source": []
  }
 ],
 "metadata": {
  "kernelspec": {
   "display_name": "Python 3 (ipykernel)",
   "language": "python",
   "name": "python3"
  },
  "language_info": {
   "codemirror_mode": {
    "name": "ipython",
    "version": 3
   },
   "file_extension": ".py",
   "mimetype": "text/x-python",
   "name": "python",
   "nbconvert_exporter": "python",
   "pygments_lexer": "ipython3",
   "version": "3.10.9"
  }
 },
 "nbformat": 4,
 "nbformat_minor": 5
}
