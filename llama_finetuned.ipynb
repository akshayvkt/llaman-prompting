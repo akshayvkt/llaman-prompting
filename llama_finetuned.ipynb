{
 "cells": [
  {
   "cell_type": "markdown",
   "id": "9f4eff3f",
   "metadata": {},
   "source": [
    "### Fine-tuning LLaMa2 using Replicate"
   ]
  },
  {
   "cell_type": "code",
   "execution_count": null,
   "id": "89d55e6d",
   "metadata": {},
   "outputs": [],
   "source": [
    "pip install replicate"
   ]
  },
  {
   "cell_type": "code",
   "execution_count": 2,
   "id": "09e83f26",
   "metadata": {},
   "outputs": [],
   "source": [
    "import os\n",
    "import replicate"
   ]
  },
  {
   "cell_type": "code",
   "execution_count": 3,
   "id": "c41cb80f",
   "metadata": {
    "scrolled": true
   },
   "outputs": [
    {
     "name": "stdout",
     "output_type": "stream",
     "text": [
      "36daadefb53b6e9f8e7d9fbc137e00063fb7f5b5\r\n"
     ]
    }
   ],
   "source": [
    "#export\n",
    "!echo $REPLICATE_API_TOKEN"
   ]
  },
  {
   "cell_type": "markdown",
   "id": "a2971dee",
   "metadata": {},
   "source": [
    "\n",
    "- Replace train_data with link to your training data json location\n",
    "- Train for 10 epochs using a 13b model\n",
    "- Destination is the model you created on Replicate"
   ]
  },
  {
   "cell_type": "code",
   "execution_count": 9,
   "id": "1ebbafaf",
   "metadata": {},
   "outputs": [
    {
     "name": "stdout",
     "output_type": "stream",
     "text": [
      "id='fw3d7ulb6p6p5ehmv2xdfbya4a' version=None destination=None status='starting' input={'num_train_epochs': 10, 'train_data': 'https://raw.githubusercontent.com/akshayvkt/llaman-prompting/main/prompt_150pairs-formatted.jsonl'} output=None logs='' error=None created_at='2023-08-30T08:47:51.129200986Z' started_at=None completed_at=None urls={'cancel': 'https://api.replicate.com/v1/predictions/fw3d7ulb6p6p5ehmv2xdfbya4a/cancel', 'get': 'https://api.replicate.com/v1/predictions/fw3d7ulb6p6p5ehmv2xdfbya4a'}\n"
     ]
    }
   ],
   "source": [
    "training = replicate.trainings.create(\n",
    "  version=\"replicate/llama-2-13b:dc4f980befd2103b0fb17d5854634c0f56d6f80a1a02be1b6f8859ac8ba02896\",\n",
    "  input={\n",
    "    \"train_data\": \"https://raw.githubusercontent.com/akshayvkt/llaman-prompting/main/prompt_150pairs-formatted.jsonl\",\n",
    "    \"num_train_epochs\": 15\n",
    "  },\n",
    "  destination=\"akshayvkt/llaman-150\"\n",
    ")\n",
    "\n",
    "print(training)"
   ]
  },
  {
   "cell_type": "code",
   "execution_count": 10,
   "id": "3babf813",
   "metadata": {},
   "outputs": [],
   "source": [
    "# If you've got a handle to the object returned by create()\n",
    "training.reload()\n",
    "\n",
    "# If you've got the training ID\n",
    "training = replicate.trainings.get(\"fw3d7ulb6p6p5ehmv2xdfbya4a\")\n",
    "\n",
    "if training.status == \"succeeded\":\n",
    "    print(training.output)\n",
    "    # {\"weights\": \"...\", \"version\": \"...\"}"
   ]
  },
  {
   "cell_type": "code",
   "execution_count": 10,
   "id": "5be2b033",
   "metadata": {},
   "outputs": [],
   "source": [
    "keyyy = {\"prompt\": \"Anime girl with pink hair and frilly dress holding magic wand\",\"completion\": \"Portrait of a magical anime girl with long pink hair, big sparkling eyes, frilly pink dress, holding a star wand, delicate makeup, soft studio lighting, highly detailed digital painting\"}"
   ]
  },
  {
   "cell_type": "code",
   "execution_count": 11,
   "id": "689b5ced",
   "metadata": {},
   "outputs": [
    {
     "data": {
      "text/plain": [
       "'Anime girl with pink hair and frilly dress holding magic wand'"
      ]
     },
     "execution_count": 11,
     "metadata": {},
     "output_type": "execute_result"
    }
   ],
   "source": [
    "keyyy['prompt']"
   ]
  },
  {
   "cell_type": "markdown",
   "id": "fdcd2968",
   "metadata": {},
   "source": [
    " "
   ]
  },
  {
   "cell_type": "markdown",
   "id": "bd7ab3ed",
   "metadata": {},
   "source": [
    " "
   ]
  },
  {
   "cell_type": "markdown",
   "id": "5d971f64",
   "metadata": {},
   "source": [
    "## Fine-tuning with 500 prompt pairs"
   ]
  },
  {
   "cell_type": "code",
   "execution_count": 35,
   "id": "96505f3b",
   "metadata": {},
   "outputs": [
    {
     "name": "stdout",
     "output_type": "stream",
     "text": [
      "id='ansvja3b72xz7t3iw64jvpzo4y' version=None destination=None status='starting' input={'num_train_epochs': 15, 'train_data': 'https://raw.githubusercontent.com/akshayvkt/llaman-prompting/main/prompt_500_pairs_formatted.jsonl'} output=None logs='' error=None created_at='2023-08-31T08:13:48.07425075Z' started_at=None completed_at=None urls={'cancel': 'https://api.replicate.com/v1/predictions/ansvja3b72xz7t3iw64jvpzo4y/cancel', 'get': 'https://api.replicate.com/v1/predictions/ansvja3b72xz7t3iw64jvpzo4y'}\n"
     ]
    }
   ],
   "source": [
    "training = replicate.trainings.create(\n",
    "  version=\"replicate/llama-2-13b:dc4f980befd2103b0fb17d5854634c0f56d6f80a1a02be1b6f8859ac8ba02896\",\n",
    "  input={\n",
    "    \"train_data\": \"https://raw.githubusercontent.com/akshayvkt/llaman-prompting/main/prompt_500_pairs_formatted.jsonl\",\n",
    "    \"num_train_epochs\": 15\n",
    "  },\n",
    "  destination=\"akshayvkt/llaman-500\"\n",
    ")\n",
    "\n",
    "print(training)\n"
   ]
  },
  {
   "cell_type": "code",
   "execution_count": null,
   "id": "49762b3d",
   "metadata": {},
   "outputs": [],
   "source": []
  },
  {
   "cell_type": "code",
   "execution_count": 27,
   "id": "c7f3ee5b",
   "metadata": {},
   "outputs": [],
   "source": [
    "strng = \"\"\"{\"prompt\": \"Futuristic car and factory artwork\", \"completion\": \"realistic car 3d render sci-fi car and sci-fi robotic factory structure in the coronation of napoleon painting and digital billboard with point cloud in the middle, unreal engine 5, keyshot, octane, artstation trending, ultra high detail, ultra realistic, cinematic, 8k, 16k, in style of zaha hadid, in style of nanospace michael menzelincev, in style of lee souder, in plastic, dark atmosphere, tilt shift, depth of field,\"}\"\"\"\n",
    "\n"
   ]
  },
  {
   "cell_type": "code",
   "execution_count": 30,
   "id": "5d00c78b",
   "metadata": {},
   "outputs": [
    {
     "data": {
      "text/plain": [
       "'ael menzel'"
      ]
     },
     "execution_count": 30,
     "metadata": {},
     "output_type": "execute_result"
    }
   ],
   "source": [
    "strng[390:400]"
   ]
  },
  {
   "cell_type": "code",
   "execution_count": 29,
   "id": "6f952456",
   "metadata": {},
   "outputs": [
    {
     "data": {
      "text/plain": [
       "489"
      ]
     },
     "execution_count": 29,
     "metadata": {},
     "output_type": "execute_result"
    }
   ],
   "source": [
    "len(strng)"
   ]
  },
  {
   "cell_type": "code",
   "execution_count": 19,
   "id": "2210982c",
   "metadata": {},
   "outputs": [
    {
     "data": {
      "text/plain": [
       "{'prompt': 'Futuristic car render with sci-fi factory',\n",
       " 'completion': 'realistic car 3 d render sci - fi car and sci - fi robotic factory structure in the coronation of napoleon painting and digital billboard with point cloud in the middle, unreal engine 5, keyshot, octane, artstation trending, ultra high detail, ultra realistic, cinematic, 8 k, 1 6 k, in style of zaha hadid, in style of nanospace michael menzelincev, in style of lee souder, in plastic, dark atmosphere, tilt shift, depth of field,'}"
      ]
     },
     "execution_count": 19,
     "metadata": {},
     "output_type": "execute_result"
    }
   ],
   "source": [
    "{\"prompt\": \"Futuristic car render with sci-fi factory\", \"completion\": \"realistic car 3 d render sci - fi car and sci - fi robotic factory structure in the coronation of napoleon painting and digital billboard with point cloud in the middle, unreal engine 5, keyshot, octane, artstation trending, ultra high detail, ultra realistic, cinematic, 8 k, 1 6 k, in style of zaha hadid, in style of nanospace michael menzelincev, in style of lee souder, in plastic, dark atmosphere, tilt shift, depth of field,\"}"
   ]
  },
  {
   "cell_type": "code",
   "execution_count": null,
   "id": "c236ae78",
   "metadata": {},
   "outputs": [],
   "source": []
  }
 ],
 "metadata": {
  "kernelspec": {
   "display_name": "Python 3 (ipykernel)",
   "language": "python",
   "name": "python3"
  },
  "language_info": {
   "codemirror_mode": {
    "name": "ipython",
    "version": 3
   },
   "file_extension": ".py",
   "mimetype": "text/x-python",
   "name": "python",
   "nbconvert_exporter": "python",
   "pygments_lexer": "ipython3",
   "version": "3.10.9"
  }
 },
 "nbformat": 4,
 "nbformat_minor": 5
}
