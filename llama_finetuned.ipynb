{
 "cells": [
  {
   "cell_type": "markdown",
   "id": "9f4eff3f",
   "metadata": {},
   "source": [
    "### Fine-tuning LLaMa2 using Replicate"
   ]
  },
  {
   "cell_type": "code",
   "execution_count": null,
   "id": "89d55e6d",
   "metadata": {},
   "outputs": [],
   "source": [
    "pip install replicate"
   ]
  },
  {
   "cell_type": "code",
   "execution_count": 2,
   "id": "09e83f26",
   "metadata": {},
   "outputs": [],
   "source": [
    "import os\n",
    "import replicate"
   ]
  },
  {
   "cell_type": "code",
   "execution_count": 3,
   "id": "c41cb80f",
   "metadata": {
    "scrolled": true
   },
   "outputs": [
    {
     "name": "stdout",
     "output_type": "stream",
     "text": [
      "36daadefb53b6e9f8e7d9fbc137e00063fb7f5b5\r\n"
     ]
    }
   ],
   "source": [
    "#export\n",
    "!echo $REPLICATE_API_TOKEN"
   ]
  },
  {
   "cell_type": "markdown",
   "id": "a2971dee",
   "metadata": {},
   "source": [
    "\n",
    "- Replace train_data with link to your training data json location\n",
    "- Train for 10 epochs using a 13b model\n",
    "- Destination is the model you created on Replicate"
   ]
  },
  {
   "cell_type": "code",
   "execution_count": 4,
   "id": "1ebbafaf",
   "metadata": {},
   "outputs": [
    {
     "name": "stdout",
     "output_type": "stream",
     "text": [
      "id='is23wc3beu3e3d35ftbcyzaupe' version=None destination=None status='starting' input={'num_train_epochs': 10, 'train_data': 'https://github.com/akshayvkt/llaman-prompting/blob/main/prompt_150pairs-formatted.jsonl'} output=None logs='' error=None created_at='2023-08-30T08:21:57.466820378Z' started_at=None completed_at=None urls={'cancel': 'https://api.replicate.com/v1/predictions/is23wc3beu3e3d35ftbcyzaupe/cancel', 'get': 'https://api.replicate.com/v1/predictions/is23wc3beu3e3d35ftbcyzaupe'}\n"
     ]
    }
   ],
   "source": [
    "training = replicate.trainings.create(\n",
    "  version=\"replicate/llama-2-13b:dc4f980befd2103b0fb17d5854634c0f56d6f80a1a02be1b6f8859ac8ba02896\",\n",
    "  input={\n",
    "    \"train_data\": \"https://github.com/akshayvkt/llaman-prompting/blob/main/prompt_150pairs-formatted.jsonl\",\n",
    "    \"num_train_epochs\": 10\n",
    "  },\n",
    "  destination=\"akshayvkt/llaman-150\"\n",
    ")\n",
    "\n",
    "print(training)"
   ]
  },
  {
   "cell_type": "code",
   "execution_count": null,
   "id": "3babf813",
   "metadata": {},
   "outputs": [],
   "source": [
    "# If you've got a handle to the object returned by create()\n",
    "training.reload()\n",
    "\n",
    "# If you've got the training ID\n",
    "training = replicate.trainings.get(\"6sw5d3dbybniwcqaa65c4pk7fa\")\n",
    "\n",
    "if training.status == \"succeeded\":\n",
    "    print(training.output)\n",
    "    # {\"weights\": \"...\", \"version\": \"...\"}"
   ]
  },
  {
   "cell_type": "code",
   "execution_count": 10,
   "id": "7e94f91c",
   "metadata": {},
   "outputs": [],
   "source": [
    "keyyy = {\"prompt\": \"Anime girl with pink hair and frilly dress holding magic wand\",\"completion\": \"Portrait of a magical anime girl with long pink hair, big sparkling eyes, frilly pink dress, holding a star wand, delicate makeup, soft studio lighting, highly detailed digital painting\"}"
   ]
  },
  {
   "cell_type": "code",
   "execution_count": 11,
   "id": "1c0d6013",
   "metadata": {},
   "outputs": [
    {
     "data": {
      "text/plain": [
       "'Anime girl with pink hair and frilly dress holding magic wand'"
      ]
     },
     "execution_count": 11,
     "metadata": {},
     "output_type": "execute_result"
    }
   ],
   "source": [
    "keyyy['prompt']"
   ]
  },
  {
   "cell_type": "code",
   "execution_count": null,
   "id": "1c99417d",
   "metadata": {},
   "outputs": [],
   "source": []
  }
 ],
 "metadata": {
  "kernelspec": {
   "display_name": "Python 3 (ipykernel)",
   "language": "python",
   "name": "python3"
  },
  "language_info": {
   "codemirror_mode": {
    "name": "ipython",
    "version": 3
   },
   "file_extension": ".py",
   "mimetype": "text/x-python",
   "name": "python",
   "nbconvert_exporter": "python",
   "pygments_lexer": "ipython3",
   "version": "3.10.9"
  }
 },
 "nbformat": 4,
 "nbformat_minor": 5
}
